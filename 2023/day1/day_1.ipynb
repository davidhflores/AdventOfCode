{
  "nbformat": 4,
  "nbformat_minor": 0,
  "metadata": {
    "colab": {
      "provenance": []
    },
    "kernelspec": {
      "name": "python3",
      "display_name": "Python 3"
    },
    "language_info": {
      "name": "python"
    }
  },
  "cells": [
    {
      "cell_type": "markdown",
      "source": [
        "# Part 1"
      ],
      "metadata": {
        "id": "jZMZuHw0VpFV"
      }
    },
    {
      "cell_type": "code",
      "source": [
        "from google.colab import drive\n",
        "drive.mount('/content/drive/')"
      ],
      "metadata": {
        "colab": {
          "base_uri": "https://localhost:8080/"
        },
        "id": "LxpA6qKDx-FW",
        "outputId": "90257c80-8943-4f01-88a9-c5984774f0fb"
      },
      "execution_count": null,
      "outputs": [
        {
          "output_type": "stream",
          "name": "stdout",
          "text": [
            "Mounted at /content/drive/\n"
          ]
        }
      ]
    },
    {
      "cell_type": "code",
      "source": [
        "filename='/content/drive/MyDrive/Colab_Notebooks/advent_of_code_2023/day1/day1_input.txt'\n",
        "\n",
        "with open(filename,'r+') as file1:\n",
        "  lines_text= file1.readlines()\n",
        "\n",
        "# see sample\n",
        "lines_text[:5]"
      ],
      "metadata": {
        "colab": {
          "base_uri": "https://localhost:8080/"
        },
        "id": "Y3XkCcq3OyMg",
        "outputId": "9709a543-108b-46a5-aff7-19777dba0d31"
      },
      "execution_count": null,
      "outputs": [
        {
          "output_type": "execute_result",
          "data": {
            "text/plain": [
              "['3fiveone\\n',\n",
              " 'eightnineseventwo1seven\\n',\n",
              " '9h1xcrcggtwo38\\n',\n",
              " 'nine4pvtl\\n',\n",
              " 'seven7rsbqpgxtjzsgxssix\\n']"
            ]
          },
          "metadata": {},
          "execution_count": 5
        }
      ]
    },
    {
      "cell_type": "code",
      "source": [
        "def get_digits(lines):\n",
        "  digits=[] # list for all the digits\n",
        "  for line in lines:\n",
        "    digits_in_line=[] # list for the digits of each line\n",
        "    for x in line:\n",
        "      if x.isnumeric():\n",
        "        # get the digits in each line\n",
        "        digits_in_line.append(x)\n",
        "    # append only first and last digit to main list\n",
        "    digits.append(\n",
        "        # keep them as string objects so they can be put side by side\n",
        "        digits_in_line[0]+digits_in_line[-1]\n",
        "    )\n",
        "  return digits"
      ],
      "metadata": {
        "id": "0ldEf_SJQosL"
      },
      "execution_count": null,
      "outputs": []
    },
    {
      "cell_type": "code",
      "source": [
        "digits = get_digits(lines_text)\n",
        "# see sample\n",
        "print(digits[:5])\n",
        "\n",
        "# make them integers\n",
        "digits = [int(x) for x in digits]\n",
        "# see sample\n",
        "print(digits[:5])\n",
        "\n",
        "# summ all the numbers in the list\n",
        "total = sum(digits)\n",
        "total"
      ],
      "metadata": {
        "colab": {
          "base_uri": "https://localhost:8080/"
        },
        "id": "txS6HgODTSI4",
        "outputId": "fc092256-0b11-45eb-ef63-e892d8c71650"
      },
      "execution_count": null,
      "outputs": [
        {
          "output_type": "stream",
          "name": "stdout",
          "text": [
            "['33', '11', '98', '44', '77']\n",
            "[33, 11, 98, 44, 77]\n"
          ]
        },
        {
          "output_type": "execute_result",
          "data": {
            "text/plain": [
              "54968"
            ]
          },
          "metadata": {},
          "execution_count": 35
        }
      ]
    },
    {
      "cell_type": "markdown",
      "source": [
        "# Part 2"
      ],
      "metadata": {
        "id": "7pwhwnqQVm9t"
      }
    },
    {
      "cell_type": "code",
      "source": [
        "numbers = {\n",
        "  'one':'1',\n",
        "  'two':'2',\n",
        "  'three':'3',\n",
        "  'four':'4',\n",
        "  'five':'5',\n",
        "  'six':'6',\n",
        "  'seven':'7',\n",
        "  'eight':'8',\n",
        "  'nine':'9'\n",
        "}\n",
        "\n",
        "# replace spellings for digits\n",
        "# read character (char) by character from left to right\n",
        "# identifying numbers on the way.\n",
        "new_lines=[]\n",
        "for line in lines_text:\n",
        "  digits_in_line = []\n",
        "  text = ''\n",
        "  for char in line:\n",
        "    if char.isnumeric():\n",
        "      digits_in_line.append(char)\n",
        "    else:\n",
        "      text = text+char\n",
        "      for number in numbers:\n",
        "        if number in text:\n",
        "          digits_in_line.append(numbers[number])\n",
        "          # keep the last letter for overlapping cases\n",
        "          text = text[-1]\n",
        "  new_lines.append(\n",
        "      digits_in_line[0]+digits_in_line[-1]\n",
        "  )\n",
        "\n",
        "# see sample\n",
        "print(lines_text[:5])\n",
        "print(new_lines[:5])"
      ],
      "metadata": {
        "colab": {
          "base_uri": "https://localhost:8080/"
        },
        "id": "F_Qjv2L4W9qA",
        "outputId": "9d78e53e-02f6-4766-b43f-637ba91991bd"
      },
      "execution_count": null,
      "outputs": [
        {
          "output_type": "stream",
          "name": "stdout",
          "text": [
            "['3fiveone\\n', 'eightnineseventwo1seven\\n', '9h1xcrcggtwo38\\n', 'nine4pvtl\\n', 'seven7rsbqpgxtjzsgxssix\\n']\n",
            "['31', '87', '98', '94', '76']\n"
          ]
        }
      ]
    },
    {
      "cell_type": "code",
      "source": [
        "# make them integers\n",
        "digits = [int(x) for x in digits]\n",
        "# see sample\n",
        "print(digits[:5])\n",
        "\n",
        "# summ all the numbers in the list\n",
        "total = sum(digits)\n",
        "total"
      ],
      "metadata": {
        "colab": {
          "base_uri": "https://localhost:8080/"
        },
        "id": "v7KmlDh8akyI",
        "outputId": "2a3a6885-5296-4781-a8ef-8231f20b1fb9"
      },
      "execution_count": null,
      "outputs": [
        {
          "output_type": "stream",
          "name": "stdout",
          "text": [
            "[31, 87, 98, 94, 76]\n"
          ]
        },
        {
          "output_type": "execute_result",
          "data": {
            "text/plain": [
              "54094"
            ]
          },
          "metadata": {},
          "execution_count": 52
        }
      ]
    }
  ]
}
